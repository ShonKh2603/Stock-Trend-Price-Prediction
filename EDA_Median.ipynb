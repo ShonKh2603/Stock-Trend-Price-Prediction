{
 "cells": [
  {
   "cell_type": "code",
   "execution_count": null,
   "id": "0ab18607",
   "metadata": {},
   "outputs": [],
   "source": [
    "import pandas as pd\n",
    "import matplotlib as mpl\n",
    "import matplotlib.pyplot as plt      \n",
    "import seaborn as sns\n",
    "from collections import Counter\n",
    "from sklearn.decomposition import PCA\n",
    "from matplotlib import rcParams\n",
    "%matplotlib inline\n",
    "from statistics import mean"
   ]
  },
  {
   "cell_type": "code",
   "execution_count": null,
   "id": "f3967ea7",
   "metadata": {},
   "outputs": [],
   "source": [
    "df = pd.read_csv('df_median.csv')\n",
    "#Dropping the unnamed col again!\n",
    "df.drop('Unnamed: 0', axis=1, inplace=True)"
   ]
  },
  {
   "cell_type": "code",
   "execution_count": null,
   "id": "d22d21fc",
   "metadata": {
    "scrolled": true
   },
   "outputs": [],
   "source": [
    "#We added the new column of substracy of 'Last_Q' and 'Prev_Q'\n",
    "df['Last_Q_Net - Prev_Q_Net'] = df['Last_Q_Net'] - df['Prev_Q_Net']\n",
    "df"
   ]
  },
  {
   "cell_type": "code",
   "execution_count": null,
   "id": "f4dea189",
   "metadata": {
    "scrolled": false
   },
   "outputs": [],
   "source": [
    "#Checking the corelations in our data!\n",
    "f, ax = plt.subplots(figsize=(20, 12))\n",
    "corrMatrix = df.corr('spearman')\n",
    "sns.heatmap(corrMatrix, annot=True, cmap='coolwarm')\n",
    "plt.show()"
   ]
  },
  {
   "cell_type": "code",
   "execution_count": null,
   "id": "270f24f7",
   "metadata": {},
   "outputs": [],
   "source": [
    "Sectors = df['Sector'] #Saved the sectors in a list\n",
    "df.drop('Sector', axis = 1, inplace = True) #dropping the sector from dataframe\n",
    "Symbol = df['Symbols'] #Saving the symbols in a list\n",
    "df.drop('Symbols', axis = 1, inplace = True) # Dropping the symbols col in order to make the code work with floats"
   ]
  },
  {
   "cell_type": "code",
   "execution_count": null,
   "id": "48890abf",
   "metadata": {},
   "outputs": [],
   "source": [
    "#Appending the corelation array with the best corelations that are above 0.5\n",
    "correlations=[]\n",
    "arr=[]\n",
    "cols1=df.columns\n",
    "cols2=df.columns\n",
    "i=0\n",
    "for col1 in cols1:\n",
    "    j=0\n",
    "    for col2 in cols2:\n",
    "        if col1==col2:\n",
    "            break\n",
    "        if df[col1].corr(df[col2])>=0.5 or df[col1].corr(df[col2])<=-0.5:\n",
    "            arr.append(f\"({df.columns[i]}, {df.columns[j]})\")\n",
    "        j+=1\n",
    "    i+=1\n",
    "print(arr)\n",
    "#We removed the sectors from dataframe in order to make the code above work with floats!!\n",
    "df['Sector'] = Sectors \n",
    "df['Symbol'] = Symbol"
   ]
  },
  {
   "cell_type": "code",
   "execution_count": null,
   "id": "83f5a1e8",
   "metadata": {},
   "outputs": [],
   "source": [
    "#The highest corelations\n",
    "df.corr()"
   ]
  },
  {
   "cell_type": "code",
   "execution_count": null,
   "id": "781e08b1",
   "metadata": {},
   "outputs": [],
   "source": [
    "#Visualizing the sectors (how much tech stocks, how much health stocks and etc...)\n",
    "fig, axes = plt.subplots(1,1, figsize=(25,15))\n",
    "sr = df['Sector'].value_counts()\n",
    "explode=(0.05,0.05,0.05,0.05,0.05,0.05,0.05,0.05,0.05,0.05,0.05,0.05,0.05)\n",
    "sr.plot(kind='pie',cmap='tab20',autopct='%1.1f%%',explode=explode,shadow=True)\n",
    "plt.ylabel('')"
   ]
  },
  {
   "cell_type": "code",
   "execution_count": null,
   "id": "33591692",
   "metadata": {
    "scrolled": false
   },
   "outputs": [],
   "source": [
    "#We wanted to see the corelation between Analyst_Mean_Target_Price and Current_Stock_Price\n",
    "#Conclusion: We know that as long as the analyst mean target price is high people will want to buy more of the stock what makes his price higher than ever\n",
    "fig, axes = plt.subplots(1,1, figsize=(5,5))\n",
    "axes.scatter(df['Analyst_Mean_Target_Price'],df['Current_Stock_Price'])\n",
    "plt.xlabel('Analyst_Mean_Target_Price')\n",
    "plt.ylabel('Current Stock Price')\n",
    "\n",
    "#We wanted to see the corelation between avg_50 and Current_Stock_Price\n",
    "#Conclusion: As the avg is higher the stock is strong and remaining high as long as the avg is high!\n",
    "fig, axes = plt.subplots(1,1, figsize=(5,5))\n",
    "axes.scatter(df['Avg_50'],df['Current_Stock_Price'], color = 'red')\n",
    "plt.xlabel('Avg_50')\n",
    "plt.ylabel('Current Stock Price')\n",
    "\n",
    "#Conclusion: The analyst mean target price is high, the average of the stock remaining high!\n",
    "fig, axes = plt.subplots(1,1, figsize=(12,5))\n",
    "axes.scatter(df['Analyst_Mean_Target_Price'],df['Avg_50'], color = 'green')\n",
    "plt.xlabel('Analyst_Mean_Target_Price')\n",
    "plt.ylabel('Avg_50')"
   ]
  },
  {
   "cell_type": "code",
   "execution_count": null,
   "id": "04e5ef76",
   "metadata": {},
   "outputs": [],
   "source": [
    "#Avg of every sector by the Current Stock Price!\n",
    "Healthcare = df[df['Sector'] == 'Healthcare']['Current_Stock_Price'].mean()\n",
    "Financial_Services = df[df['Sector'] == 'Financial Services']['Current_Stock_Price'].mean()\n",
    "Industrials = df[df['Sector'] == 'Industrials']['Current_Stock_Price'].mean()\n",
    "Technology = df[df['Sector'] == 'Technology']['Current_Stock_Price'].mean()\n",
    "Consumer_Cyclical = df[df['Sector'] == 'Consumer Cyclical']['Current_Stock_Price'].mean()\n",
    "Real_Estate = df[df['Sector'] == 'Real Estate']['Current_Stock_Price'].mean()\n",
    "Communication_Services = df[df['Sector'] == 'Communication Services']['Current_Stock_Price'].mean()\n",
    "Energy = df[df['Sector'] == 'Energy']['Current_Stock_Price'].mean()\n",
    "Consumer_Defensive = df[df['Sector'] == 'Consumer Defensive']['Current_Stock_Price'].mean()\n",
    "unknown = df[df['Sector'] == 'unknown']['Current_Stock_Price'].mean()\n",
    "Basic_Materials = df[df['Sector'] == 'Basic Materials']['Current_Stock_Price'].mean()\n",
    "Utilities = df[df['Sector'] == 'Utilities']['Current_Stock_Price'].mean()\n",
    "Financial = df[df['Sector'] == 'Financial']['Current_Stock_Price'].mean()"
   ]
  },
  {
   "cell_type": "code",
   "execution_count": null,
   "id": "954a82b1",
   "metadata": {},
   "outputs": [],
   "source": [
    "avg = []\n",
    "avg.append(Financial_Services)\n",
    "avg.append(Healthcare)\n",
    "avg.append(Technology)\n",
    "avg.append(Industrials)\n",
    "avg.append(Consumer_Cyclical)\n",
    "avg.append(unknown)\n",
    "avg.append(Communication_Services)\n",
    "avg.append(Consumer_Defensive)\n",
    "avg.append(Basic_Materials)\n",
    "avg.append(Real_Estate)\n",
    "avg.append(Energy)\n",
    "avg.append(Utilities)\n",
    "avg.append(Financial)"
   ]
  },
  {
   "cell_type": "code",
   "execution_count": null,
   "id": "aff4c849",
   "metadata": {},
   "outputs": [],
   "source": [
    "#Gives me the list of the sectors\n",
    "sectors = df[\"Sector\"].value_counts().index.to_list()"
   ]
  },
  {
   "cell_type": "code",
   "execution_count": null,
   "id": "24fbe1eb",
   "metadata": {
    "scrolled": false
   },
   "outputs": [],
   "source": [
    "#Conclusion: Plot Bars for visualizing the average of stock prices in every sector!\n",
    "plt.figure(figsize=(30,20))\n",
    "plt.bar(sectors,avg, color = ['black', 'red', 'blue', 'yellow', 'cyan','pink', 'purple', 'brown','khaki','deepskyblue', 'green', 'lime', 'navy'],width=.5)\n",
    "plt.show()"
   ]
  },
  {
   "cell_type": "code",
   "execution_count": null,
   "id": "3bbd1e0d",
   "metadata": {},
   "outputs": [],
   "source": [
    "Healthcare = df[df['Sector'] == 'Healthcare']['Perf_Week(%)'].mean()\n",
    "Financial_Services = df[df['Sector'] == 'Financial Services']['Perf_Week(%)'].mean()\n",
    "Industrials = df[df['Sector'] == 'Industrials']['Perf_Week(%)'].mean()\n",
    "Technology = df[df['Sector'] == 'Technology']['Perf_Week(%)'].mean()\n",
    "Consumer_Cyclical = df[df['Sector'] == 'Consumer Cyclical']['Perf_Week(%)'].mean()\n",
    "Real_Estate = df[df['Sector'] == 'Real Estate']['Perf_Week(%)'].mean()\n",
    "Communication_Services = df[df['Sector'] == 'Communication Services']['Perf_Week(%)'].mean()\n",
    "Energy = df[df['Sector'] == 'Energy']['Perf_Week(%)'].mean()\n",
    "Consumer_Defensive = df[df['Sector'] == 'Consumer Defensive']['Perf_Week(%)'].mean()\n",
    "unknown = df[df['Sector'] == 'unknown']['Perf_Week(%)'].mean()\n",
    "Basic_Materials = df[df['Sector'] == 'Basic Materials']['Perf_Week(%)'].mean()\n",
    "Utilities = df[df['Sector'] == 'Utilities']['Perf_Week(%)'].mean()\n",
    "Financial = df[df['Sector'] == 'Financial']['Perf_Week(%)'].mean()"
   ]
  },
  {
   "cell_type": "code",
   "execution_count": null,
   "id": "5ee4d13b",
   "metadata": {},
   "outputs": [],
   "source": [
    "prf_week = []\n",
    "prf_week.append(Financial_Services)\n",
    "prf_week.append(Healthcare)\n",
    "prf_week.append(Technology)\n",
    "prf_week.append(Industrials)\n",
    "prf_week.append(Consumer_Cyclical)\n",
    "prf_week.append(unknown)\n",
    "prf_week.append(Communication_Services)\n",
    "prf_week.append(Consumer_Defensive)\n",
    "prf_week.append(Basic_Materials)\n",
    "prf_week.append(Real_Estate)\n",
    "prf_week.append(Energy)\n",
    "prf_week.append(Utilities)\n",
    "prf_week.append(Financial)"
   ]
  },
  {
   "cell_type": "code",
   "execution_count": null,
   "id": "6ad696ca",
   "metadata": {},
   "outputs": [],
   "source": [
    "# Plot Bars for visualizing the average of stock prices in every sector!\n",
    "plt.figure(figsize=(30,20))\n",
    "plt.bar(sectors,prf_week, color = ['black', 'red', 'blue', 'yellow', 'cyan','pink', 'purple', 'brown','khaki','deepskyblue', 'green', 'lime', 'navy'],width=.5)\n",
    "plt.show()"
   ]
  },
  {
   "cell_type": "code",
   "execution_count": null,
   "id": "289275ba",
   "metadata": {},
   "outputs": [],
   "source": [
    "plt.figure(figsize = (10,10))\n",
    "sns.lineplot(data=df, x=\"Sector\", y=\"Perf_Year(%)\", color = 'indigo')"
   ]
  },
  {
   "cell_type": "code",
   "execution_count": null,
   "id": "e7ee7580",
   "metadata": {},
   "outputs": [],
   "source": [
    "fig, axes = plt.subplots(2,1, figsize=(30,15))\n",
    "sns.lineplot(ax = axes[0], data=df, x=\"Sector\", y=\"Perf_Year(%)\", color ='blue')\n",
    "sns.lineplot(ax = axes[1],data=df, x=\"Sector\", y=\"Vol_Avg_3_Months\", color='indigo')"
   ]
  },
  {
   "cell_type": "code",
   "execution_count": null,
   "id": "14afc403",
   "metadata": {},
   "outputs": [],
   "source": [
    "#All the sectors in our dataframe\n",
    "df['Sector'].unique()"
   ]
  },
  {
   "cell_type": "code",
   "execution_count": null,
   "id": "6d91cd76",
   "metadata": {},
   "outputs": [],
   "source": [
    "#Creating the arrays of all our sectors\n",
    "Financial_Services=[]\n",
    "Industrials=[]\n",
    "Healthcare=[]\n",
    "Technology=[]\n",
    "Consumer_Cyclical=[] \n",
    "Real_Estate=[]\n",
    "Communication_Services=[]\n",
    "Energy=[] \n",
    "Consumer_Defensive=[] \n",
    "unknown=[] \n",
    "Basic_Materials=[]\n",
    "Utilities=[]\n",
    "Financial=[]"
   ]
  },
  {
   "cell_type": "code",
   "execution_count": null,
   "id": "6221d257",
   "metadata": {},
   "outputs": [],
   "source": [
    "#Creating array x which contains all the perfs of all time in our dataframe\n",
    "x=['Perf_Year(%)','Perf_Half_Year(%)','Perf_Quarter(%)','Perf_Month(%)','Perf_Week(%)']"
   ]
  },
  {
   "cell_type": "code",
   "execution_count": null,
   "id": "a2e18ad3",
   "metadata": {},
   "outputs": [],
   "source": [
    "#Appending all the mean of all perfs of each sector!\n",
    "Technology.append(df[df['Sector']=='Technology']['Perf_Year(%)'].mean())\n",
    "Technology.append(df[df['Sector']=='Technology']['Perf_Half_Year(%)'].mean())\n",
    "Technology.append(df[df['Sector']=='Technology']['Perf_Quarter(%)'].mean())\n",
    "Technology.append(df[df['Sector']=='Technology']['Perf_Month(%)'].mean())\n",
    "Technology.append(df[df['Sector']=='Technology']['Perf_Week(%)'].mean())\n",
    "\n",
    "Financial_Services.append(df[df['Sector']=='Financial Services']['Perf_Year(%)'].mean())\n",
    "Financial_Services.append(df[df['Sector']=='Financial Services']['Perf_Half_Year(%)'].mean())\n",
    "Financial_Services.append(df[df['Sector']=='Financial Services']['Perf_Quarter(%)'].mean())\n",
    "Financial_Services.append(df[df['Sector']=='Financial Services']['Perf_Month(%)'].mean())\n",
    "Financial_Services.append(df[df['Sector']=='Financial Services']['Perf_Week(%)'].mean())\n",
    "\n",
    "Industrials.append(df[df['Sector']=='Industrials']['Perf_Year(%)'].mean())\n",
    "Industrials.append(df[df['Sector']=='Industrials']['Perf_Half_Year(%)'].mean())\n",
    "Industrials.append(df[df['Sector']=='Industrials']['Perf_Quarter(%)'].mean())\n",
    "Industrials.append(df[df['Sector']=='Industrials']['Perf_Month(%)'].mean())\n",
    "Industrials.append(df[df['Sector']=='Industrials']['Perf_Week(%)'].mean())\n",
    "\n",
    "Healthcare.append(df[df['Sector']=='Healthcare']['Perf_Year(%)'].mean())\n",
    "Healthcare.append(df[df['Sector']=='Healthcare']['Perf_Half_Year(%)'].mean())\n",
    "Healthcare.append(df[df['Sector']=='Healthcare']['Perf_Quarter(%)'].mean())\n",
    "Healthcare.append(df[df['Sector']=='Healthcare']['Perf_Month(%)'].mean())\n",
    "Healthcare.append(df[df['Sector']=='Healthcare']['Perf_Week(%)'].mean())\n",
    "\n",
    "Consumer_Cyclical.append(df[df['Sector']=='Consumer Cyclical']['Perf_Year(%)'].mean())\n",
    "Consumer_Cyclical.append(df[df['Sector']=='Consumer Cyclical']['Perf_Half_Year(%)'].mean())\n",
    "Consumer_Cyclical.append(df[df['Sector']=='Consumer Cyclical']['Perf_Quarter(%)'].mean())\n",
    "Consumer_Cyclical.append(df[df['Sector']=='Consumer Cyclical']['Perf_Month(%)'].mean())\n",
    "Consumer_Cyclical.append(df[df['Sector']=='Consumer Cyclical']['Perf_Week(%)'].mean())\n",
    "\n",
    "Real_Estate.append(df[df['Sector']=='Real Estate']['Perf_Year(%)'].mean())\n",
    "Real_Estate.append(df[df['Sector']=='Real Estate']['Perf_Half_Year(%)'].mean())\n",
    "Real_Estate.append(df[df['Sector']=='Real Estate']['Perf_Quarter(%)'].mean())\n",
    "Real_Estate.append(df[df['Sector']=='Real Estate']['Perf_Month(%)'].mean())\n",
    "Real_Estate.append(df[df['Sector']=='Real Estate']['Perf_Week(%)'].mean())\n",
    "\n",
    "Communication_Services.append(df[df['Sector']=='Communication Services']['Perf_Year(%)'].mean())\n",
    "Communication_Services.append(df[df['Sector']=='Communication Services']['Perf_Half_Year(%)'].mean())\n",
    "Communication_Services.append(df[df['Sector']=='Communication Services']['Perf_Quarter(%)'].mean())\n",
    "Communication_Services.append(df[df['Sector']=='Communication Services']['Perf_Month(%)'].mean())\n",
    "Communication_Services.append(df[df['Sector']=='Communication Services']['Perf_Week(%)'].mean())\n",
    "\n",
    "Energy.append(df[df['Sector']=='Energy']['Perf_Year(%)'].mean())\n",
    "Energy.append(df[df['Sector']=='Energy']['Perf_Half_Year(%)'].mean())\n",
    "Energy.append(df[df['Sector']=='Energy']['Perf_Quarter(%)'].mean())\n",
    "Energy.append(df[df['Sector']=='Energy']['Perf_Month(%)'].mean())\n",
    "Energy.append(df[df['Sector']=='Energy']['Perf_Week(%)'].mean())\n",
    "\n",
    "Consumer_Defensive.append(df[df['Sector']=='Consumer Defensive']['Perf_Year(%)'].mean())\n",
    "Consumer_Defensive.append(df[df['Sector']=='Consumer Defensive']['Perf_Half_Year(%)'].mean())\n",
    "Consumer_Defensive.append(df[df['Sector']=='Consumer Defensive']['Perf_Quarter(%)'].mean())\n",
    "Consumer_Defensive.append(df[df['Sector']=='Consumer Defensive']['Perf_Month(%)'].mean())\n",
    "Consumer_Defensive.append(df[df['Sector']=='Consumer Defensive']['Perf_Week(%)'].mean())\n",
    "\n",
    "Basic_Materials.append(df[df['Sector']=='Basic Materials']['Perf_Year(%)'].mean())\n",
    "Basic_Materials.append(df[df['Sector']=='Basic Materials']['Perf_Half_Year(%)'].mean())\n",
    "Basic_Materials.append(df[df['Sector']=='Basic Materials']['Perf_Quarter(%)'].mean())\n",
    "Basic_Materials.append(df[df['Sector']=='Basic Materials']['Perf_Month(%)'].mean())\n",
    "Basic_Materials.append(df[df['Sector']=='Basic Materials']['Perf_Week(%)'].mean())\n",
    "\n",
    "Utilities.append(df[df['Sector']=='Utilities']['Perf_Year(%)'].mean())\n",
    "Utilities.append(df[df['Sector']=='Utilities']['Perf_Half_Year(%)'].mean())\n",
    "Utilities.append(df[df['Sector']=='Utilities']['Perf_Quarter(%)'].mean())\n",
    "Utilities.append(df[df['Sector']=='Utilities']['Perf_Month(%)'].mean())\n",
    "Utilities.append(df[df['Sector']=='Utilities']['Perf_Week(%)'].mean())\n",
    "\n",
    "Financial.append(df[df['Sector']=='Financial']['Perf_Year(%)'].mean())\n",
    "Financial.append(df[df['Sector']=='Financial']['Perf_Half_Year(%)'].mean())\n",
    "Financial.append(df[df['Sector']=='Financial']['Perf_Quarter(%)'].mean())\n",
    "Financial.append(df[df['Sector']=='Financial']['Perf_Month(%)'].mean())\n",
    "Financial.append(df[df['Sector']=='Financial']['Perf_Week(%)'].mean())\n",
    "\n",
    "unknown.append(df[df['Sector']=='unknown']['Perf_Year(%)'].mean())\n",
    "unknown.append(df[df['Sector']=='unknown']['Perf_Half_Year(%)'].mean())\n",
    "unknown.append(df[df['Sector']=='unknown']['Perf_Quarter(%)'].mean())\n",
    "unknown.append(df[df['Sector']=='unknown']['Perf_Month(%)'].mean())\n",
    "unknown.append(df[df['Sector']=='unknown']['Perf_Week(%)'].mean())"
   ]
  },
  {
   "cell_type": "code",
   "execution_count": null,
   "id": "badf1a52",
   "metadata": {},
   "outputs": [],
   "source": [
    "#Due to the corona virus spread all the stocks went down!\n",
    "plt.figure(figsize=(20,10), dpi= 1000)\n",
    "plt.plot(x,Technology, label = \"Technology\")\n",
    "plt.plot(x,Financial_Services, label = \"Financial_Services\")\n",
    "plt.plot(x,Industrials, label = \"Industrials\")\n",
    "plt.plot(x,Healthcare, label = \"Healthcare\")\n",
    "plt.plot(x,Consumer_Cyclical, label = \"Consumer_Cyclical\")\n",
    "plt.plot(x,Real_Estate, label = \"Real_Estate\")\n",
    "plt.plot(x,Communication_Services, label = \"Communication_Services\")\n",
    "plt.plot(x,Energy, label = \"Energy\")\n",
    "plt.plot(x, Consumer_Defensive, label = \"Consumer_Defensive\")\n",
    "plt.plot(x,Basic_Materials, label = \"Basic_Materials\")\n",
    "plt.plot(x,Utilities, label = \"Utilities\")\n",
    "plt.plot(x,Financial, label = \"Financial\")\n",
    "plt.plot(x,unknown, label = \"unknown\")\n",
    "plt.legend()\n",
    "plt.show()"
   ]
  },
  {
   "cell_type": "code",
   "execution_count": null,
   "id": "0b946bc0",
   "metadata": {},
   "outputs": [],
   "source": [
    "df.to_csv('After_Eda.csv', index=False)"
   ]
  },
  {
   "cell_type": "code",
   "execution_count": null,
   "id": "198060f9",
   "metadata": {},
   "outputs": [],
   "source": []
  }
 ],
 "metadata": {
  "kernelspec": {
   "display_name": "Python 3",
   "language": "python",
   "name": "python3"
  },
  "language_info": {
   "codemirror_mode": {
    "name": "ipython",
    "version": 3
   },
   "file_extension": ".py",
   "mimetype": "text/x-python",
   "name": "python",
   "nbconvert_exporter": "python",
   "pygments_lexer": "ipython3",
   "version": "3.8.8"
  }
 },
 "nbformat": 4,
 "nbformat_minor": 5
}
